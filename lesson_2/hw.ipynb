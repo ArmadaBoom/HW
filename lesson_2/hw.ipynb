{
 "cells": [
  {
   "cell_type": "markdown",
   "metadata": {},
   "source": [
    "**Задание 1**. Даны 2 строки: *long_phrase* и *short_phrase*. \n",
    "Напишите код, который проверяет действительно ли длинная фраза *long_phrase* длиннее короткой *short_phrase*. И выводит *True* или *False* в зависимости от результата сравнения."
   ]
  },
  {
   "cell_type": "code",
   "execution_count": null,
   "metadata": {},
   "outputs": [],
   "source": [
    "long_phrase = 'Насколько проще было бы писать программы, если бы не заказчики'\n",
    "short_phrase = '640Кб должно хватить для любых задач. Билл Гейтс (по легенде)'"
   ]
  },
  {
   "cell_type": "code",
   "execution_count": 16,
   "metadata": {},
   "outputs": [
    {
     "name": "stdout",
     "output_type": "stream",
     "text": [
      "True\n"
     ]
    }
   ],
   "source": [
    "long_phrase = 'Насколько проще было бы писать программы, если бы не заказчики'\n",
    "short_phrase = '640Кб должно хватить для любых задач. Билл Гейтс (по легенде)'\n",
    "a = len(long_phrase)\n",
    "b = len(short_phrase)\n",
    "print(a > b)"
   ]
  },
  {
   "cell_type": "markdown",
   "metadata": {},
   "source": [
    "**Задание 2**. Дано значение объема файла в байтах (*в мегабайте 2^20 байт*). Напишите перевод этого значения в мегабайты в формате: \"*Объем файла равен 213.68Mb*\"."
   ]
  },
  {
   "cell_type": "code",
   "execution_count": 48,
   "metadata": {},
   "outputs": [
    {
     "name": "stdout",
     "output_type": "stream",
     "text": [
      "224059719.68\n"
     ]
    }
   ],
   "source": [
    "file = 213.68\n",
    "print((2**20)*file)"
   ]
  },
  {
   "cell_type": "markdown",
   "metadata": {},
   "source": [
    "**Задание 3**. Разработать приложение для определения знака зодиака по дате рождения. Пример:\n",
    "\n",
    "Введите месяц: март\n",
    "\n",
    "Введите число: 6\n",
    "\n",
    "Вывод:\n",
    "Рыбы"
   ]
  },
  {
   "cell_type": "code",
   "execution_count": 44,
   "metadata": {},
   "outputs": [
    {
     "name": "stdout",
     "output_type": "stream",
     "text": [
      "Введите месяцАпрель\n",
      "Введите число2\n",
      "Овен\n"
     ]
    }
   ],
   "source": [
    "user_month = str(input('Введите месяц'))\n",
    "number = int(input('Введите число'))\n",
    "if (user_month == 'Декабрь' and number > 22) or (user_month == 'Январь' and number < 21):\n",
    "    print('Козерог')\n",
    "elif (user_month == 'Январь' and number > 20) or (user_month == 'Февраль' and number < 20):\n",
    "    print('Водолей')\n",
    "elif (user_month == 'Февраль' and number > 19) or (user_month == 'Март' and number <21):\n",
    "    print('Рыбы')\n",
    "elif (user_month == 'Март' and number > 20) or (user_month == 'Апрель' and number < 21):\n",
    "    print('Овен')\n",
    "elif (user_month == 'Апрель' and number > 20) or (user_month == 'Май' and number < 22):\n",
    "    print('Телец')\n",
    "elif (user_month == 'Май' and number > 21) or (user_month == 'Июнь' and number < 22):\n",
    "    print('Близнецы')\n",
    "elif (user_month == 'Июнь' and number > 21) or (user_month == 'Июль' and number < 23):\n",
    "    print('Рак')\n",
    "elif (user_month == 'Июль' and number > 22) or (user_month == 'Август' and number < 24):\n",
    "    print('Лев')\n",
    "elif (user_month == 'Август' and number > 23) or (user_month == 'Сентябрь' and number < 24):\n",
    "    print('Дева')\n",
    "elif (user_month == 'Сентябрь' and number > 23) or (user_month == 'Октябрь' and number < 22):\n",
    "    print('Весы')\n",
    "elif (user_month == 'Октябрь' and number > 23) or (user_month == 'Ноябрь' and number < 23):\n",
    "    print('скорпион')\n",
    "else:\n",
    "    print('Стрелец')\n"
   ]
  },
  {
   "cell_type": "markdown",
   "metadata": {},
   "source": [
    "**Задание 4**. Нужно разработать приложение для финансового планирования.\n",
    "Приложение учитывает сколько уходит на ипотеку, \"на жизнь\" и сколько нужно отложить на пенсию.\n",
    "Пользователь вводит:\n",
    "- заработанную плату в месяц.\n",
    "- сколько процентов от ЗП уходит на ипотеку.\n",
    "- сколько процентов от ЗП уходит \"на жизнь\".\n",
    "- сколько раз приходит премия в год.\n",
    "\n",
    "Остальная часть заработанной платы откладывается на пенсию.\n",
    "\n",
    "Также пользователю приходит премия в размере зарплаты, от которой половина уходит на отпуск, а вторая половина откладывается.\n",
    "\n",
    "Программа должна учитывать сколько премий было в год.\n",
    "\n",
    "Нужно вывести сколько денег тратит пользователь на ипотеку и сколько он накопит за год.\n",
    "\n",
    "Пример:\n",
    "\n",
    "Введите заработанную плату в месяц: 100000\n",
    "\n",
    "Введите сколько процентов уходит на ипотеку: 30\n",
    "\n",
    "Введите сколько процентов уходит на жизнь: 50\n",
    "\n",
    "Введите количество премий за год: 2\n",
    "\n",
    "Вывод:\n",
    "На ипотеку было потрачено: 360000 рублей\n",
    "Было накоплено: 340000 рублей"
   ]
  },
  {
   "cell_type": "code",
   "execution_count": 56,
   "metadata": {},
   "outputs": [
    {
     "name": "stdout",
     "output_type": "stream",
     "text": [
      "Введите заработную плату: 50000\n",
      "Введите процент зп уходящий на ипотеку: 25\n",
      "Введите процент зп уходящий \"на жизнь\": 50\n",
      "Введите сколько раз пришла премия: 5\n",
      "Отчисления на пенсию:  150000.0 Выплачено по ипотеке:  150000.0\n",
      "Накомплено на отпуск:  125000.0 Накоплений:  125000.0\n"
     ]
    }
   ],
   "source": [
    "zp = int(input('Введите заработную плату: '))\n",
    "ipoteka = int(input('Введите процент зп уходящий на ипотеку: '))\n",
    "life = int(input('Введите процент зп уходящий \"на жизнь\": '))\n",
    "premia = int(input('Введите сколько раз пришла премия: '))\n",
    "ipoteka_2 = zp/100*ipoteka\n",
    "life_2 = zp/100*life\n",
    "pensia = (zp - (ipoteka_2 + life_2)) * 12\n",
    "ipoteka_3 = ipoteka_2 * 12\n",
    "premia_2 = zp\n",
    "otpusk = premia_2/2*premia\n",
    "zapas = premia_2/2*premia\n",
    "print('Отчисления на пенсию: ', pensia, 'Выплачено по ипотеке: ', ipoteka_3)\n",
    "print('Накомплено на отпуск: ', otpusk, 'Накоплений: ', zapas)\n"
   ]
  },
  {
   "cell_type": "code",
   "execution_count": null,
   "metadata": {},
   "outputs": [],
   "source": []
  }
 ],
 "metadata": {
  "kernelspec": {
   "display_name": "Python 3 (ipykernel)",
   "language": "python",
   "name": "python3"
  },
  "language_info": {
   "codemirror_mode": {
    "name": "ipython",
    "version": 3
   },
   "file_extension": ".py",
   "mimetype": "text/x-python",
   "name": "python",
   "nbconvert_exporter": "python",
   "pygments_lexer": "ipython3",
   "version": "3.9.13"
  }
 },
 "nbformat": 4,
 "nbformat_minor": 2
}
